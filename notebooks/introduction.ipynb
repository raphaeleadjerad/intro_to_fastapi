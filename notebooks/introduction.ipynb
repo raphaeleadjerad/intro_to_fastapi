{
 "cells": [
  {
   "cell_type": "markdown",
   "metadata": {},
   "source": [
    "# Introduction à FAST API\n",
    "\n",
    "API : interface de programmation applicative\n",
    "`fastapi` permet de construire une API web avec Python \n",
    "Repose sur:\n",
    "- `Starlette` (services web asynchrones): va permettre de définir la classe d'objets `FastAPI`\n",
    "- `pydantic` (validation de données): va permettre de vérifier notamment des types de données dans les opérations effectuées\n",
    "\n",
    "Requiert un serveur ASGI comme `uvicorn`\n",
    "\n",
    "Pour l'installation\n",
    "```\n",
    "pip install fastapi\n",
    "pip install uvicorn[standard]\n",
    "```\n",
    "\n",
    "Les étapes décrites ci-dessous utilisent les ressources suivantes:\n",
    "- <https://fastapi.tiangolo.com/tutorial/first-steps/>\n",
    "- <https://docs.sspcloud.fr/actualites/onyxia-scaleup-les-rendez-vous-communautaires-onyxia>, vidéo du 13 mai 2022 sur le développement d'API\n",
    "- <https://datascientest.com/fastapi> pour la comparaison avec `Flask` et `Django`\n",
    "\n",
    "## Instanciation d'un objet `FastAPI()`\n",
    "\n",
    "On importe la classe Python  `FastAPI` du module `fastapi` (c'est une classe qui hérite de `Starlette`):\n",
    "```\n",
    "from fastapi import FastAPI\n",
    "```\n",
    "\n",
    "Puis, on instancie tout d'abord un **objet** `fastapi` grâce à l'instruction `app = FastAPI()` qui instancie une API appelée `app`. On peut l'instancier avec des **attributs** particuliers comme le titre (`title`) ou encore la description (`description`). \n",
    "On peut très bien appeler notre API comme on le souhaite, mais dans ce cas la suite du code devra reprendre ce nom et non pas app. \n",
    "\n",
    "\n",
    "\n",
    "## Définition des *path operation decorator*\n",
    "\n",
    "Un **endpoint** est la partie de l'URL commençant au premier / (aussi appelé *path* ou *route*)\n",
    "`fastapi` utilise le terme **operations** pour définir les méthodes HTTP standards pour construire une API:\n",
    "- `POST`: pour créer de la donnée\n",
    "- `GET`: pour lire de la donnée\n",
    "- `PUT`: pour mettre à jour de la donnée\n",
    "- `DELETE`: pour supprimer de la donnée\n",
    "On va par exemple utiliser le **decorator** `@app.get()` pour placer les différents **endpoint** qu'on définit (si notre API s'appelle `monAPI` alors il faut adapter le decorator en `@monAPI.get()`). On parle de **path (endpoint) operation decorator**. Ce **decorator** dit à `fastAPI` que la fonction définie ensuite est en charge des requêtes adressées au path `/`, utilisant une opération **get**. \n",
    "Les opérations les plus courantes (en plus du **get**) sont les suivantes:\n",
    "- `app.post()`\n",
    "- `app.get()`\n",
    "- `app.delete()`\n",
    "\n",
    "\n",
    "## Définition de méthodes asynchrones \n",
    "\n",
    "On définit ensuite des méthodes dites *asynchrones*. Pour ce faire on fait précéder les méthodes définies par le mot-clef `async`. \n",
    "\n",
    "{{% box status=\"note\" title=\"Note\" icon=\"fa fa-comment\" %}}\n",
    "La **programmation asynchrone** est une notion très utilisée pour tous les programmes ayant besoin d'exécuter des tâches en même temps (serveurs web par exemple). On parle de méthodes *asynchrones* pour définir des programmes qui s'exécutent de façon **concurrente**. Cela revient à essayer d'optimiser les tâches à exécuter pour passer le moins de temps à attendre (gestion de plusieurs tâches à la fois en passant d'une tâche à l'autre dès qu'il y a un temps d'attente).\n",
    "La librairie `Asyncio`, développée par le créateur de Python, permet d'écrire du code **asynchrone**. <https://leblogducodeur.fr/code-asynchrone-python/>. Cette librarie ajoute le mot-clef `async` à Python, ce que l'on va utiliser dans ce tutoriel - le mot-clef `await` est aussi très utilisé - (termes aussi utilisés dans d'autres langages asynchrones comme Node JS). \n",
    " Attention, la **concurrence** n'est pas le **parallélisme**, pour plus de détails voir cet article: <https://leblogducodeur.fr/lasynchronisme-en-programmation/>\n",
    " D'autres détails sur la métaphore des burgers pour décrire les méthodes asynchrones (en anglais) peuvent être trouvés ici: <https://fastapi.tiangolo.com/async/#in-a-hurry>\n",
    "{{% /box %}}\n",
    "\n",
    "Voici l'exemple canonique de la définition d'une méthode asynchrone pour notre API:\n",
    "```\n",
    "@app.get(\"/\")\n",
    "async def root():\n",
    "    return {\"message\": \"Hello World\"}\n",
    "```\n",
    "Cette fonction est appelée par `FastAPI()` quand il reçoit une requête à l'URL \"/\" qui utilise une opération GET. \n"
   ]
  },
  {
   "cell_type": "markdown",
   "metadata": {},
   "source": [
    "## Lancement de l'API dans la console\n",
    "\n",
    "On utilise `uvicorn` pour appeler notre API. L'objet défini `app` de la classe `FastAPI()` est le même que celui que l'on va appeler dans la console\n",
    "```\n",
    "uvicorn main:app --reload\n",
    "```\n",
    "Si notre API s'appelle `monAPI` alors je lancerai mon API de la manière suivante dans la console:\n",
    "```\n",
    "uvicorn main:monAPI --reload\n",
    "```\n",
    "\n",
    "## Cas d'usage \n",
    "\n",
    "On va par exemple utiliser ce modèle d'API pour renvoyer les résultats de modèle préentrainés. La requête peut alors être la prédiction d'un certain input grâce au modèle préentrainé. \n",
    "\n",
    "C'est l'exemple de l'API `predicat` développée par l'Insee (<http://api.lab.sspcloud.fr/predicat/>) dont le repo est open : <https://github.com/InseeFrLab/predicat>. Un notebook d'exemple d'utilisation de cette API se trouve ici <https://github.com/InseeFrLab/predicat/blob/master/help/example-request.ipynb>. "
   ]
  },
  {
   "cell_type": "markdown",
   "metadata": {},
   "source": [
    "## Interagir avec notre `FastAPI` dans l'url ou grâce à `requests`\n",
    "\n",
    "Il existe plusieurs manières d'interagir avec notre `FastAPI`. On peut aller directement sur le site de l'API et créer les requêtes dans l'url. C'est l'exemple \n",
    "dans predicat de demander la classification d'un certain produit grâce à la requête:\n",
    "```\n",
    "http://api.lab.sspcloud.fr/predicat/label?q=pomme\n",
    "```\n",
    "\n",
    "Ici on utilise le endpoint \"/label\" et la q est spécifiée grâce à \"?\" suivi de \"q=\" et enfin du produit que je souhaite classifier. \n",
    "Comme détaillé dans le notebook <https://github.com/InseeFrLab/predicat/blob/master/help/example-request.ipynb>, il est aussi tout à fait possible d'interagir avec `python` grâce à la librairie `requests` avec notre API. C'est par exemple très pratique comme donné dans l'exemple final pour donner à consommer à l'API un csv de produit à classifier, et de retourner l'ensemble des prédictions. "
   ]
  },
  {
   "cell_type": "markdown",
   "metadata": {},
   "source": [
    "## Documentation : **openAPI** \n",
    "\n",
    "`FastAPI` a automatiquement généré de la documentation à l'aide du standard défini par **openAPI**. Il s'agit d'un schéma de l'API, permettant de définir les données reçues et envoyées par l'API (dans le format JSON). Pour y accéder, on peut écrire l'url de l'API suivi de `openapi.json`. \n",
    "Ensuite, on peut faire consommer ce json notamment par `Swagger` pour générer une jolie page permettant de visualiser les différentes opérations et les différents **endpoints** définis par l'API. "
   ]
  },
  {
   "cell_type": "markdown",
   "metadata": {},
   "source": [
    "## Déploiement de l'API\n",
    "\n",
    "Une fois que l'on a construit notre API en local, on a envie de la déployer. Plusieurs questions se posent (cf session SSPCLOUD Scale Up sur le déploiement d'API pour plus d'informations):\n",
    "- le **packaging** de l'application dans une image `Docker`, publiée sur le `Dockerhub` (comme dit dans la vidéo il existe des alternatives à `Dockerhub` pour la publication d'images). Pour une présentation de `Docker` voir par exemple <https://openclassrooms.com/fr/courses/2035766-optimisez-votre-deploiement-en-creant-des-conteneurs-avec-docker>\n",
    "- le **deploiement** de l'application\n",
    "- l'**exposition** de notre application: accès à l'utilisateur (avec des questions de quotas de requêtes, sécurité de l'accès, référencement, etc.)\n",
    "\n",
    "Ensuite, se posent les questions de l'automatisation de ces trois étapes dès qu'il y a une modification dans l'application. \n",
    "Ces applications vont normalement être utilisées, être consommées par d'autres applications, c'est à dire accepter des requêtes (va se poser la question de la charge sur l'application et de la disponibilité de celle-ci)."
   ]
  },
  {
   "cell_type": "markdown",
   "metadata": {},
   "source": [
    "### Déploiement de l'application construite avec `fastapi` \n",
    "\n",
    "Pour déployer notre application, nous allons utiliser `Kubernetes`."
   ]
  },
  {
   "cell_type": "markdown",
   "metadata": {},
   "source": [
    "### Exposition de l'application au monde extérieur grâce à un API manager\n",
    "\n",
    "Pour exposer au monde extérieur, on souhaite utiliser un **API manager**, qui va notamment s'occuper de gérer le référencement de l'API, la sécurité, le monitoring, etc. \n",
    "On peut utiliser par exemple `gravitee` qui est open source (<https://www.gravitee.io/>). C'est ce qu'utilise le SSPcloud notamment pour les différentes API qu'ils gèrent: <https://apim.lab.sspcloud.fr/catalog>. On peut se connecter sur cet API Manager et publier sa propre API, ce qui nous génère une adresse publique (commencera par api.lab.sspcloud.fr/).\n",
    "Le certificat de sécurité https sera ainsi déjà garanti. On peut mettre des règles d'accès (restriction d'accès par exemple demande d'inscription, quotas de requêtes, etc.).  \n",
    "Toutes les requêtes adressées à mon API passent par mon API manager et sont données à mon API qui est déployée. Cela permet d'avoir de nombreuses statistiques sur les requêtes soumises à l'API."
   ]
  },
  {
   "cell_type": "markdown",
   "metadata": {},
   "source": [
    "## Automatisation du déploiement avec `Argo-cd` \n",
    "\n",
    "Il est possible d'automatiser le déploiement d'une API avec `Argo-cd`. On donne le repository git à `argo-cd` qui redéploie l'API. Il est possible de faire l'ensemble du déploiement avec `argo-cd` : mise à jour de l'application, suppression d'une application, suivi des logs, etc."
   ]
  },
  {
   "cell_type": "markdown",
   "metadata": {},
   "source": []
  }
 ],
 "metadata": {
  "language_info": {
   "name": "python"
  },
  "orig_nbformat": 4
 },
 "nbformat": 4,
 "nbformat_minor": 2
}
