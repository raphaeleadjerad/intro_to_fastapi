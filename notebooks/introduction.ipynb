{
 "cells": [
  {
   "cell_type": "markdown",
   "metadata": {},
   "source": [
    "# Introduction à FAST API\n",
    "\n",
    "API : interface de programmation applicative\n",
    "`fastapi` permet de construire une API web avec Python \n",
    "Repose sur:\n",
    "- `Starlette` (services web asynchrones)\n",
    "- `pydantic` (validation de données)\n",
    "\n",
    "Requiert un serveur ASGI comme `uvicorn`\n",
    "\n",
    "Pour l'installation\n",
    "```\n",
    "pip install fastapi\n",
    "pip install uvicorn[standard]\n",
    "```\n",
    "\n",
    "## Instanciation d'un objet `FastAPI()`\n",
    "\n",
    "On importe la classe Python  `FastAPI` du module `fastapi` (c'est une classe qui hérite de `Starlette`):\n",
    "```\n",
    "from fastapi import FastAPI\n",
    "```\n",
    "\n",
    "Puis, on instancie tout d'abord un **objet** `fastapi` grâce à l'instruction `app = FastAPI()` qui instancie une API appelée `app`. On peut l'instancier avec des **attributs** particuliers comme le titre (`title`) ou encore la description (`description`). \n",
    "\n",
    "## Définition de méthodes asynchrones \n",
    "\n",
    "On définit ensuite des méthodes dites *asynchrones*. Pour ce faire on fait précéder les méthodes définies par le mot-clef `async`. \n",
    "\n",
    "{{% box status=\"note\" title=\"Note\" icon=\"fa fa-comment\" %}}\n",
    "La **programmation asynchrone** est une notion très utilisée pour tous les programmes ayant besoin d'exécuter des tâches en même temps (serveurs web par exemple). On parle de méthodes *asynchrones* pour définir des programmes qui s'exécutent de façon **concurrente**. Cela revient à essayer d'optimiser les tâches à exécuter pour passer le moins de temps à attendre (gestion de plusieurs tâches à la fois en passant d'une tâche à l'autre dès qu'il y a un temps d'attente).\n",
    "La librairie `Asyncio`, développée par le créateur de Python, permet d'écrire du code **asynchrone**. <https://leblogducodeur.fr/code-asynchrone-python/>. Cette librarie ajoute le mot-clef `async` à Python, ce que l'on va utiliser dans ce tutoriel - le mot-clef `await` est aussi très utilisé - (termes aussi utilisés dans d'autres langages asynchrones comme Node JS). \n",
    " Attention, la **concurrence** n'est pas le **parallélisme**, pour plus de détails voir cet article: <https://leblogducodeur.fr/lasynchronisme-en-programmation/>\n",
    "{{% /box %}}\n",
    "\n",
    "## Définition des endpoint\n",
    "\n",
    "On va utiliser le **decorator** `@app.get()` pour placer les différents **endpoint** qu'on définit. Ceux ci peuvent prendre comme argument des requêtes (*query*) et renvoyer des outputs spécifiques.  \n",
    "On va par exemple utiliser ce modèle d'API pour renvoyer les résultats de modèle préentrainés. La *query* peut alors être la prédiction d'un certain input grâce au modèle préentrainé. \n",
    "\n",
    "C'est l'exemple de l'API `predicat` développée par l'Insee (<http://api.lab.sspcloud.fr/predicat/>) dont le repo est open : <https://github.com/InseeFrLab/predicat>. Un notebook d'exemple d'utilisation de cette API se trouve ici <https://github.com/InseeFrLab/predicat/blob/master/help/example-request.ipynb>. \n",
    "\n",
    "## Lancement de l'API dans la console\n",
    "\n",
    "On utilise `uvicorn` pour appeler notre API. L'objet défini `app` de la classe `FastAPI()` est le même que celui que l'on va appeler dans la console\n",
    "```\n",
    "uvicorn main:app --reload\n",
    "```"
   ]
  },
  {
   "cell_type": "markdown",
   "metadata": {},
   "source": []
  }
 ],
 "metadata": {
  "language_info": {
   "name": "python"
  },
  "orig_nbformat": 4
 },
 "nbformat": 4,
 "nbformat_minor": 2
}
