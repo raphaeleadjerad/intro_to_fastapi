{
 "cells": [
  {
   "cell_type": "markdown",
   "metadata": {},
   "source": [
    "# Introduction à FAST API\n",
    "\n",
    "API : interface de programmation applicative\n",
    "`fastapi` permet de construire une API web avec Python \n",
    "Repose sur:\n",
    "- `Starlette` (services web asynchrones): va permettre de définir la classe d'objets `FastAPI`\n",
    "- `pydantic` (validation de données): va permettre de vérifier notamment des types de données dans les opérations effectuées\n",
    "\n",
    "Requiert un serveur ASGI comme `uvicorn`\n",
    "\n",
    "Pour l'installation\n",
    "```\n",
    "pip install fastapi\n",
    "pip install uvicorn[standard]\n",
    "```\n",
    "\n",
    "Les étapes décrites ci-dessous utilisent les ressources suivantes:\n",
    "- <https://fastapi.tiangolo.com/tutorial/first-steps/>\n",
    "- <https://docs.sspcloud.fr/actualites/onyxia-scaleup-les-rendez-vous-communautaires-onyxia>, vidéo du 13 mai sur le développement d'API\n",
    "- <https://datascientest.com/fastapi> pour la comparaison avec `Flask` et `Django`\n",
    "\n",
    "## Instanciation d'un objet `FastAPI()`\n",
    "\n",
    "On importe la classe Python  `FastAPI` du module `fastapi` (c'est une classe qui hérite de `Starlette`):\n",
    "```\n",
    "from fastapi import FastAPI\n",
    "```\n",
    "\n",
    "Puis, on instancie tout d'abord un **objet** `fastapi` grâce à l'instruction `app = FastAPI()` qui instancie une API appelée `app`. On peut l'instancier avec des **attributs** particuliers comme le titre (`title`) ou encore la description (`description`). \n",
    "On peut très bien appeler notre API comme on le souhaite, mais dans ce cas la suite du code devra reprendre ce nom et non pas app. \n",
    "\n",
    "\n",
    "\n",
    "## Définition des *path operation decorator*\n",
    "\n",
    "Un **endpoint** est la partie de l'URL commençant au premier / (aussi appelé *path* ou *route*)\n",
    "`fastapi` utilise le terme **operations** pour définir les méthodes HTTP standards pour construire une API:\n",
    "- `POST`: pour créer de la donnée\n",
    "- `GET`: pour lire de la donnée\n",
    "- `PUT`: pour mettre à jour de la donnée\n",
    "- `DELETE`: pour supprimer de la donnée\n",
    "On va par exemple utiliser le **decorator** `@app.get()` pour placer les différents **endpoint** qu'on définit (si notre API s'appelle `monAPI` alors il faut adapter le decorator en `@monAPI.get()`). On parle de **path (endpoint) operation decorator**. Ce **decorator** dit à `fastAPI` que la fonction définie ensuite est en charge des requêtes adressées au path `/`, utilisant une opération **get**. \n",
    "Les opérations les plus courantes (en plus du **get**) sont les suivantes:\n",
    "- `app.post()`\n",
    "- `app.get()`\n",
    "- `app.delete()`\n",
    "\n",
    "\n",
    "## Définition de méthodes asynchrones \n",
    "\n",
    "On définit ensuite des méthodes dites *asynchrones*. Pour ce faire on fait précéder les méthodes définies par le mot-clef `async`. \n",
    "\n",
    "{{% box status=\"note\" title=\"Note\" icon=\"fa fa-comment\" %}}\n",
    "La **programmation asynchrone** est une notion très utilisée pour tous les programmes ayant besoin d'exécuter des tâches en même temps (serveurs web par exemple). On parle de méthodes *asynchrones* pour définir des programmes qui s'exécutent de façon **concurrente**. Cela revient à essayer d'optimiser les tâches à exécuter pour passer le moins de temps à attendre (gestion de plusieurs tâches à la fois en passant d'une tâche à l'autre dès qu'il y a un temps d'attente).\n",
    "La librairie `Asyncio`, développée par le créateur de Python, permet d'écrire du code **asynchrone**. <https://leblogducodeur.fr/code-asynchrone-python/>. Cette librarie ajoute le mot-clef `async` à Python, ce que l'on va utiliser dans ce tutoriel - le mot-clef `await` est aussi très utilisé - (termes aussi utilisés dans d'autres langages asynchrones comme Node JS). \n",
    " Attention, la **concurrence** n'est pas le **parallélisme**, pour plus de détails voir cet article: <https://leblogducodeur.fr/lasynchronisme-en-programmation/>\n",
    " D'autres détails sur la métaphore des burgers pour décrire les méthodes asynchrones (en anglais) peuvent être trouvés ici: <https://fastapi.tiangolo.com/async/#in-a-hurry>\n",
    "{{% /box %}}\n",
    "\n",
    "Voici l'exemple canonique de la définition d'une méthode asynchrone pour notre API:\n",
    "```\n",
    "@app.get(\"/\")\n",
    "async def root():\n",
    "    return {\"message\": \"Hello World\"}\n",
    "```\n",
    "Cette fonction est appelée par `FastAPI()` quand il reçoit une requête à l'URL \"/\" qui utilise une opération GET. \n"
   ]
  },
  {
   "cell_type": "markdown",
   "metadata": {},
   "source": [
    "## Lancement de l'API dans la console\n",
    "\n",
    "On utilise `uvicorn` pour appeler notre API. L'objet défini `app` de la classe `FastAPI()` est le même que celui que l'on va appeler dans la console\n",
    "```\n",
    "uvicorn main:app --reload\n",
    "```\n",
    "Si notre API s'appelle `monAPI` alors je lancerai mon API de la manière suivante dans la console:\n",
    "```\n",
    "uvicorn main:monAPI --reload\n",
    "```\n",
    "\n",
    "## Cas d'usage \n",
    "\n",
    "On va par exemple utiliser ce modèle d'API pour renvoyer les résultats de modèle préentrainés. La requête peut alors être la prédiction d'un certain input grâce au modèle préentrainé. \n",
    "\n",
    "C'est l'exemple de l'API `predicat` développée par l'Insee (<http://api.lab.sspcloud.fr/predicat/>) dont le repo est open : <https://github.com/InseeFrLab/predicat>. Un notebook d'exemple d'utilisation de cette API se trouve ici <https://github.com/InseeFrLab/predicat/blob/master/help/example-request.ipynb>. "
   ]
  },
  {
   "cell_type": "markdown",
   "metadata": {},
   "source": [
    "## Documentation : **openAPI** \n",
    "\n",
    "`FastAPI` a directement intégré la documentation à partir des **endpoint** définis dans l'API. Pour y accéder, on peut écrire l'url de l'API suivi de `openapi.json`. \n",
    "Mais on peut faire consommer ce json notamment par `Swagger` pour générer une jolie page permettant de visualiser les différentes opérations et les différents endpoints définis par l'API. "
   ]
  },
  {
   "cell_type": "markdown",
   "metadata": {},
   "source": [
    "## Déploiement de l'API\n",
    "\n",
    "Une fois que l'on a construit notre API en local, on a envie de la déployer. Plusieurs questions se posent:\n",
    "- le packaging de l'application dans une image `Docker`\n",
    "- le monitoring de l'application (utilisation)\n",
    "- l'accès à notre application (quotas de requêtes, sécurité de l'accès, etc.)\n"
   ]
  },
  {
   "cell_type": "markdown",
   "metadata": {},
   "source": []
  }
 ],
 "metadata": {
  "language_info": {
   "name": "python"
  },
  "orig_nbformat": 4
 },
 "nbformat": 4,
 "nbformat_minor": 2
}
